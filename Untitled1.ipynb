{
 "cells": [
  {
   "cell_type": "code",
   "execution_count": 3,
   "metadata": {
    "scrolled": true
   },
   "outputs": [
    {
     "name": "stdout",
     "output_type": "stream",
     "text": [
      "\n",
      "\n",
      "Election Results\n",
      "-------------------------\n",
      "Total Votes: 3521001\n",
      "-------------------------\n",
      "Khan: 63.000% (2218231)\n",
      "\n",
      "Correy: 20.000% (704200)\n",
      "\n",
      "Li: 14.000% (492940)\n",
      "\n",
      "O'Tooley: 3.000% (105630)\n",
      "\n",
      "-------------------------\n",
      "\n",
      "Winner:Khan\n",
      "-------------------------\n",
      "\n"
     ]
    }
   ],
   "source": [
    "import os\n",
    "import csv\n",
    "\n",
    "csv_path = os.path.join(\".\",\"Resources\",\"Election_data.csv\")\n",
    "file_to_output = os.path.join(\"Output\",\"Election_result.txt\")\n",
    "total = 0\n",
    "list_1 = []\n",
    "votes = {}\n",
    "winning_candidate = \"\"\n",
    "winning_count = 0\n",
    "\n",
    "with open(csv_path, newline=\"\") as csvfile:\n",
    "    csvreader = csv.reader(csvfile, delimiter=\",\")\n",
    "    \n",
    "    csv_header = next(csvfile)\n",
    "    \n",
    "    \n",
    "    for row in csvreader:\n",
    "        total += 1\n",
    "        candidate_name = row[2]\n",
    "        if candidate_name not in list_1:\n",
    "            list_1.append(candidate_name)\n",
    "            \n",
    "            votes[candidate_name] = 0\n",
    "        votes[candidate_name] = votes[candidate_name] + 1\n",
    "        \n",
    "with open(file_to_output, \"w\") as txt_file:\n",
    "    election_results = (\n",
    "       f\"\\n\\nElection Results\\n\"\n",
    "       f\"-------------------------\\n\"\n",
    "       f\"Total Votes: {total}\\n\"\n",
    "       f\"-------------------------\\n\")\n",
    "    print(election_results, end=\"\")\n",
    "    txt_file.write(election_results)\n",
    "    \n",
    "    for candidate in votes:\n",
    "        total_votes = votes.get(candidate)\n",
    "        votes_percent = float(total_votes)/float(total)*100\n",
    "        if (total_votes > winning_count):\n",
    "            winning_count = total_votes\n",
    "            winning_candidate = candidate\n",
    "            \n",
    "        voter_output = f\"{candidate}: {votes_percent:.3f}% ({total_votes})\\n\"\n",
    "        print(voter_output)\n",
    "        txt_file.write(voter_output)\n",
    "    print(f\"-------------------------\\n\")\n",
    "        \n",
    "    winning_candidate_summary = (f\"Winner:{winning_candidate}\")\n",
    "    print(winning_candidate_summary)\n",
    "    print(f\"-------------------------\\n\")\n",
    "    \n",
    "    txt_file.write(winning_candidate) \n",
    "    \n",
    "    \n",
    "    \n",
    "    \n",
    "    \n",
    "        \n",
    "        \n",
    "        \n",
    "        "
   ]
  },
  {
   "cell_type": "code",
   "execution_count": null,
   "metadata": {},
   "outputs": [],
   "source": []
  },
  {
   "cell_type": "code",
   "execution_count": null,
   "metadata": {},
   "outputs": [],
   "source": []
  }
 ],
 "metadata": {
  "kernelspec": {
   "display_name": "Python 3",
   "language": "python",
   "name": "python3"
  },
  "language_info": {
   "codemirror_mode": {
    "name": "ipython",
    "version": 3
   },
   "file_extension": ".py",
   "mimetype": "text/x-python",
   "name": "python",
   "nbconvert_exporter": "python",
   "pygments_lexer": "ipython3",
   "version": "3.7.0"
  }
 },
 "nbformat": 4,
 "nbformat_minor": 2
}
