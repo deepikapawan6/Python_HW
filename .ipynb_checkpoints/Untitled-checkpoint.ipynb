{
 "cells": [
  {
   "cell_type": "code",
   "execution_count": 2,
   "metadata": {
    "scrolled": true
   },
   "outputs": [
    {
     "name": "stdout",
     "output_type": "stream",
     "text": [
      "\n",
      "\n",
      "Financial Analysis\n",
      "\n",
      "-----------------------------------\n",
      "\n",
      "Total Months: 86\n",
      "\n",
      "Total Revenue: $38382578.0\n",
      "\n",
      "Avereage Change:$-2315\n",
      "\n",
      "Greatest Increase in Profits: Feb-2012, ($1926159.0)\n",
      "\n",
      "Greatest Decrease in Profits: Sep-2013, ($-2196167.0)\n",
      "\n"
     ]
    }
   ],
   "source": [
    "\n",
    "\n",
    "import os\n",
    "import csv\n",
    "\n",
    "csv_path = os.path.join(\".\",\"Resources\",\"Budget_data.csv\")\n",
    "file_to_output = os.path.join(\"Output\",\"Budget_result.txt\")\n",
    "\n",
    "revenue = []\n",
    "date = []\n",
    "rev_change = []\n",
    "\n",
    "with open(csv_path, newline=\"\") as csvfile:\n",
    "    csvreader = csv.reader(csvfile, delimiter=\",\")\n",
    "    \n",
    "    csv_header = next(csvfile)\n",
    "    \n",
    "    \n",
    "    \n",
    "    \n",
    "    \n",
    "    \n",
    "\n",
    "     \n",
    "    for row in csvreader:\n",
    "\n",
    "        revenue.append(float(row[1]))\n",
    "        date.append(row[0])\n",
    "        \n",
    "with open(file_to_output, \"w\") as txt_file:   \n",
    "\n",
    "    result = (f\"\\n\\nFinancial Analysis\\n\"\n",
    "            f\"\\n-----------------------------------\\n\"\n",
    "            f\"\\nTotal Months: {len(date)}\\n\"\n",
    "            f\"\\nTotal Revenue: ${sum(revenue)}\\n\")\n",
    "    print(result)\n",
    "    txt_file.write(result)\n",
    "\n",
    "\n",
    "\n",
    "     \n",
    "    for i in range(1,len(revenue)):\n",
    "        rev_change.append(revenue[i] - revenue[i-1])\n",
    "        \n",
    "        avg_rev_change = sum(rev_change)/len(rev_change)\n",
    "        \n",
    "        max_rev_change = max(rev_change)\n",
    "\n",
    "        min_rev_change = min(rev_change)\n",
    "\n",
    "        max_rev_change_date = str(date[rev_change.index(max(rev_change))+1])\n",
    "        min_rev_change_date = str(date[rev_change.index(min(rev_change))+1])\n",
    "    \n",
    "    \n",
    "    \n",
    "    avg_round = round(avg_rev_change)\n",
    "    avg_change = f\"Avereage Change:${avg_round}\\n\"\n",
    "    print(avg_change)\n",
    "    txt_file.write(avg_change)\n",
    "    profit_inc = f\"Greatest Increase in Profits: {max_rev_change_date}, (${max_rev_change})\\n\"\n",
    "    print(profit_inc)\n",
    "    txt_file.write(profit_inc)\n",
    "    profit_dec = f\"Greatest Decrease in Profits: {min_rev_change_date}, (${min_rev_change})\\n\"\n",
    "    print(profit_dec)\n",
    "    txt_file.write(profit_dec)\n",
    "    \n",
    "    \n",
    "    \n",
    "    \n",
    "    \n",
    "    \n",
    "\n"
   ]
  },
  {
   "cell_type": "markdown",
   "metadata": {},
   "source": []
  },
  {
   "cell_type": "code",
   "execution_count": null,
   "metadata": {},
   "outputs": [],
   "source": []
  },
  {
   "cell_type": "code",
   "execution_count": null,
   "metadata": {},
   "outputs": [],
   "source": []
  }
 ],
 "metadata": {
  "kernelspec": {
   "display_name": "Python 3",
   "language": "python",
   "name": "python3"
  },
  "language_info": {
   "codemirror_mode": {
    "name": "ipython",
    "version": 3
   },
   "file_extension": ".py",
   "mimetype": "text/x-python",
   "name": "python",
   "nbconvert_exporter": "python",
   "pygments_lexer": "ipython3",
   "version": "3.7.0"
  }
 },
 "nbformat": 4,
 "nbformat_minor": 2
}
